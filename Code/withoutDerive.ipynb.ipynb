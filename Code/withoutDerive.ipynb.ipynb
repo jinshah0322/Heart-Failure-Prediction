{
 "cells": [
  {
   "cell_type": "code",
   "execution_count": 11,
   "metadata": {},
   "outputs": [],
   "source": [
    "import pandas as pd\n",
    "import matplotlib.pyplot as plt\n",
    "from sklearn.model_selection import train_test_split\n",
    "from sklearn.preprocessing import StandardScaler\n",
    "from sklearn.linear_model import LogisticRegression\n",
    "from sklearn.metrics import confusion_matrix\n",
    "from sklearn.metrics import accuracy_score\n",
    "from sklearn.metrics import ConfusionMatrixDisplay, classification_report\n",
    "from sklearn.svm import SVC\n",
    "from sklearn.neighbors import KNeighborsClassifier"
   ]
  },
  {
   "cell_type": "code",
   "execution_count": 3,
   "id": "b970439b",
   "metadata": {},
   "outputs": [
    {
     "name": "stdout",
     "output_type": "stream",
     "text": [
      "============================================================| Dataset |============================================================\n",
      "     age  anaemia  creatinine_phosphokinase  diabetes  ejection_fraction   \n",
      "0  75.0        0                       582         0                 20  \\\n",
      "1  55.0        0                      7861         0                 38   \n",
      "2  65.0        0                       146         0                 20   \n",
      "3  50.0        1                       111         0                 20   \n",
      "4  65.0        1                       160         1                 20   \n",
      "\n",
      "   high_blood_pressure  platelets  serum_creatinine  serum_sodium  sex   \n",
      "0                    1  265000.00               1.9           130    1  \\\n",
      "1                    0  263358.03               1.1           136    1   \n",
      "2                    0  162000.00               1.3           129    1   \n",
      "3                    0  210000.00               1.9           137    1   \n",
      "4                    0  327000.00               2.7           116    0   \n",
      "\n",
      "   smoking  time  DEATH_EVENT  \n",
      "0        0     4            1  \n",
      "1        0     6            1  \n",
      "2        1     7            1  \n",
      "3        0     7            1  \n",
      "4        0     8            1  \n"
     ]
    }
   ],
   "source": [
    "df = pd.read_csv(\"../final_dataset.csv\")\n",
    "print(\"============================================================| Dataset |============================================================\\n\",df.head())"
   ]
  },
  {
   "cell_type": "code",
   "execution_count": 4,
   "id": "945563c6",
   "metadata": {},
   "outputs": [],
   "source": [
    "# Input\n",
    "x = df.drop(['DEATH_EVENT'], axis='columns')\n",
    "# Target\n",
    "y = df['DEATH_EVENT']"
   ]
  },
  {
   "cell_type": "code",
   "execution_count": 5,
   "id": "ebc4f049",
   "metadata": {},
   "outputs": [],
   "source": [
    "# Splitting The Dataset\n",
    "xtrain, xtest, ytrain, ytest = train_test_split(\n",
    "    x, y, test_size=0.30, random_state=0)\n",
    "# Scaling model in the range of -1 to 1\n",
    "sc_x = StandardScaler()\n",
    "xtrain = sc_x.fit_transform(xtrain)\n",
    "xtest = sc_x.transform(xtest)"
   ]
  },
  {
   "cell_type": "code",
   "execution_count": 6,
   "id": "27ee5f59",
   "metadata": {},
   "outputs": [
    {
     "name": "stdout",
     "output_type": "stream",
     "text": [
      "Score of the Logistic Regression Model For Training Data is:  0.861244019138756\n",
      "Score of the Logistic Regression Model is For Training Data is:  0.8111111111111111\n",
      "Accuracy of the Logistic Regression Model Model is:  0.8111111111111111\n"
     ]
    },
    {
     "data": {
      "image/png": "[encoded data removed]",
      "text/plain": [
       "<Figure size 640x480 with 2 Axes>"
      ]
     },
     "metadata": {},
     "output_type": "display_data"
    },
    {
     "name": "stdout",
     "output_type": "stream",
     "text": [
      "Logistic Regression Report:\n",
      "               precision    recall  f1-score   support\n",
      "\n",
      "           0       0.82      0.94      0.87        62\n",
      "           1       0.79      0.54      0.64        28\n",
      "\n",
      "    accuracy                           0.81        90\n",
      "   macro avg       0.80      0.74      0.76        90\n",
      "weighted avg       0.81      0.81      0.80        90\n",
      "\n"
     ]
    }
   ],
   "source": [
    "# Training Model\n",
    "model = LogisticRegression(random_state=0)\n",
    "model.fit(xtrain, ytrain)\n",
    "\n",
    "# After training the model, it is time to use it to do predictions on testing data.\n",
    "y_pred = model.predict(xtest)\n",
    "\n",
    "training_score = model.score(xtrain,ytrain)\n",
    "print(\"Score of the Logistic Regression Model For Training Data is: \",training_score)\n",
    "\n",
    "testing_score = model.score(xtest,ytest)\n",
    "print(\"Score of the Logistic Regression Model is For Training Data is: \",testing_score)\n",
    "\n",
    "accuracy = accuracy_score(y_pred,ytest)\n",
    "print(\"Accuracy of the Logistic Regression Model Model is: \",accuracy)\n",
    "\n",
    "# Confusion Metrics\n",
    "labels = [0,1]\n",
    "cm = confusion_matrix(ytest, y_pred, labels=labels)\n",
    "disp = ConfusionMatrixDisplay(confusion_matrix=cm, display_labels=labels)\n",
    "disp.plot()\n",
    "plt.show()\n",
    "\n",
    "print(\"Logistic Regression Report:\\n\",classification_report(ytest, y_pred, labels=labels))"
   ]
  },
  {
   "cell_type": "code",
   "execution_count": 7,
   "id": "f62dc955",
   "metadata": {},
   "outputs": [
    {
     "name": "stdout",
     "output_type": "stream",
     "text": [
      "Score of the SVM For Training Data is:  0.8564593301435407\n",
      "Score of the SVM is For Testing Data:  0.8222222222222222\n",
      "Accuracy of the SVM Model is:  0.8222222222222222\n"
     ]
    },
    {
     "data": {
      "image/png": "[encoded data removed]",
      "text/plain": [
       "<Figure size 640x480 with 2 Axes>"
      ]
     },
     "metadata": {},
     "output_type": "display_data"
    },
    {
     "name": "stdout",
     "output_type": "stream",
     "text": [
      "SVM Report:\n",
      "               precision    recall  f1-score   support\n",
      "\n",
      "           0       0.82      0.95      0.88        62\n",
      "           1       0.83      0.54      0.65        28\n",
      "\n",
      "    accuracy                           0.82        90\n",
      "   macro avg       0.83      0.74      0.77        90\n",
      "weighted avg       0.82      0.82      0.81        90\n",
      "\n"
     ]
    }
   ],
   "source": [
    "# SVM Training Model\n",
    "model1 = SVC(C=1.0,random_state=1,kernel='linear')\n",
    "model1.fit(xtrain,ytrain)\n",
    "\n",
    "# After training the model, it is time to use it to do predictions on testing data.\n",
    "y_pred1 = model1.predict(xtest)\n",
    "\n",
    "training_score1 = model1.score(xtrain,ytrain)\n",
    "print(\"Score of the SVM For Training Data is: \",training_score1)\n",
    "\n",
    "testing_score1 = model1.score(xtest,ytest)\n",
    "print(\"Score of the SVM is For Testing Data: \",testing_score1)\n",
    "\n",
    "accuracy1 = accuracy_score(y_pred1,ytest)\n",
    "print(\"Accuracy of the SVM Model is: \",accuracy1)\n",
    "\n",
    "# Confusion Metrics for SVM\n",
    "labels = [0,1]\n",
    "cm = confusion_matrix(ytest, y_pred1, labels=labels)\n",
    "disp = ConfusionMatrixDisplay(confusion_matrix=cm, display_labels=labels)\n",
    "disp.plot()\n",
    "plt.show()\n",
    "\n",
    "print(\"SVM Report:\\n\",classification_report(ytest, y_pred1, labels=labels))"
   ]
  },
  {
   "cell_type": "code",
   "execution_count": 12,
   "id": "4edddb21",
   "metadata": {},
   "outputs": [
    {
     "name": "stdout",
     "output_type": "stream",
     "text": [
      "Score of the KNN For Training Data is:  0.8038277511961722\n",
      "Score of the KNN is For Testing Data:  0.7777777777777778\n",
      "Accuracy of the KNN Model is:  0.7777777777777778\n"
     ]
    },
    {
     "data": {
      "image/png": "[encoded data removed]",
      "text/plain": [
       "<Figure size 640x480 with 2 Axes>"
      ]
     },
     "metadata": {},
     "output_type": "display_data"
    },
    {
     "name": "stdout",
     "output_type": "stream",
     "text": [
      "KNN Report:\n",
      "               precision    recall  f1-score   support\n",
      "\n",
      "           0       0.76      0.98      0.86        62\n",
      "           1       0.90      0.32      0.47        28\n",
      "\n",
      "    accuracy                           0.78        90\n",
      "   macro avg       0.83      0.65      0.67        90\n",
      "weighted avg       0.81      0.78      0.74        90\n",
      "\n"
     ]
    }
   ],
   "source": [
    "# KNN Training Model\n",
    "model2 = KNeighborsClassifier(n_neighbors=7)\n",
    "model2.fit(xtrain,ytrain)\n",
    "\n",
    "# After training the model, it is time to use it to do predictions on testing data.\n",
    "y_pred2 = model2.predict(xtest)\n",
    "\n",
    "training_score2 = model2.score(xtrain,ytrain)\n",
    "print(\"Score of the KNN For Training Data is: \",training_score2)\n",
    "\n",
    "testing_score2 = model2.score(xtest,ytest)\n",
    "print(\"Score of the KNN is For Testing Data: \",testing_score2)\n",
    "\n",
    "accuracy2 = accuracy_score(y_pred2,ytest)\n",
    "print(\"Accuracy of the KNN Model is: \",accuracy2)\n",
    "\n",
    "# Confusion Metrics for SVM\n",
    "labels = [0,1]\n",
    "cm = confusion_matrix(ytest, y_pred2, labels=labels)\n",
    "disp = ConfusionMatrixDisplay(confusion_matrix=cm, display_labels=labels)\n",
    "disp.plot()\n",
    "plt.show()\n",
    "\n",
    "print(\"KNN Report:\\n\",classification_report(ytest, y_pred2, labels=labels))"
   ]
  }
 ],
 "metadata": {
  "kernelspec": {
   "display_name": "Python 3",
   "language": "python",
   "name": "python3"
  },
  "language_info": {
   "codemirror_mode": {
    "name": "ipython",
    "version": 3
   },
   "file_extension": ".py",
   "mimetype": "text/x-python",
   "name": "python",
   "nbconvert_exporter": "python",
   "pygments_lexer": "ipython3",
   "version": "3.10.6"
  }
 },
 "nbformat": 4,
 "nbformat_minor": 5
}
