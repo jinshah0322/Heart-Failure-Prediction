{
 "cells": [
  {
   "cell_type": "code",
   "execution_count": 28,
   "id": "5374640f-fa99-45f2-8cba-e9d3eb7b50a2",
   "metadata": {
    "tags": []
   },
   "outputs": [],
   "source": [
    "import pandas as pd\n",
    "import matplotlib.pyplot as plt\n",
    "from sklearn.model_selection import train_test_split\n",
    "from sklearn.preprocessing import StandardScaler\n",
    "from sklearn.linear_model import LogisticRegression\n",
    "from sklearn.metrics import confusion_matrix\n",
    "from sklearn.metrics import accuracy_score\n",
    "from sklearn.metrics import ConfusionMatrixDisplay, classification_report\n",
    "from sklearn.svm import SVC\n",
    "from sklearn.neighbors import KNeighborsClassifier"
   ]
  },
  {
   "cell_type": "code",
   "execution_count": 29,
   "id": "7841d783-fc64-4ff6-be9a-e145f08e1ffa",
   "metadata": {
    "tags": []
   },
   "outputs": [],
   "source": [
    "def Age_Derived(age):\n",
    "    if age < 18:\n",
    "        return 0\n",
    "    elif age >= 18 and age <= 24:\n",
    "        return 1\n",
    "    elif age >= 25 and age <= 34:\n",
    "        return 2\n",
    "    elif age >= 35 and age <= 44:\n",
    "        return 3\n",
    "    elif age >= 45 and age <= 54:\n",
    "        return 4\n",
    "    elif age >= 55 and age <= 64:\n",
    "        return 5\n",
    "    elif age >= 65:\n",
    "        return 6"
   ]
  },
  {
   "cell_type": "code",
   "execution_count": 30,
   "id": "4e78dec8-f766-4edf-97d9-3e10fc34ffad",
   "metadata": {
    "tags": []
   },
   "outputs": [],
   "source": [
    "def Creatinine_Phosphokinase_Derived(creatinine_phosphokinase):\n",
    "    if creatinine_phosphokinase < 10:\n",
    "        return 0\n",
    "    elif creatinine_phosphokinase >= 10 and creatinine_phosphokinase <= 120:\n",
    "        return 1\n",
    "    elif creatinine_phosphokinase >= 120:\n",
    "        return 2"
   ]
  },
  {
   "cell_type": "code",
   "execution_count": 31,
   "id": "adf189d4-4fa4-44f0-8614-b42e5e581386",
   "metadata": {
    "tags": []
   },
   "outputs": [],
   "source": [
    "def Ejection_fraction_Derived(ejection_fraction):\n",
    "    if ejection_fraction < 50:\n",
    "        return 0\n",
    "    elif ejection_fraction >= 50 and ejection_fraction <= 70:\n",
    "        return 1\n",
    "    elif ejection_fraction >= 70:\n",
    "        return 2"
   ]
  },
  {
   "cell_type": "code",
   "execution_count": 32,
   "id": "db209cd8-8fad-4a8a-9666-93cad72d37d8",
   "metadata": {
    "tags": []
   },
   "outputs": [],
   "source": [
    "def platelets_Derived(platelets):\n",
    "    if platelets < 150000:\n",
    "        return 0\n",
    "    elif platelets >= 150000 and platelets <= 450000:\n",
    "        return 1\n",
    "    elif platelets >= 450000:\n",
    "        return 2"
   ]
  },
  {
   "cell_type": "code",
   "execution_count": 33,
   "id": "18c331cb-61dd-4c04-a7c7-f9ee5100a3d7",
   "metadata": {
    "tags": []
   },
   "outputs": [],
   "source": [
    "def serum_creatinine_Derived(serum_creatinine, sex):\n",
    "    output = []\n",
    "    for i in range(len(serum_creatinine)):\n",
    "        if (serum_creatinine[i] < 0.74 and sex[i] == 1) or (serum_creatinine[i] < 0.59 and sex[i] == 0):\n",
    "            output.append(0)\n",
    "        elif (serum_creatinine[i] >= 0.74 and serum_creatinine[i] < 1.35 and sex[i] == 1) or (serum_creatinine[i] >= 0.59 and serum_creatinine[i] < 1.04 and sex[i] == 0):\n",
    "            output.append(1)\n",
    "        elif (serum_creatinine[i] >= 1.35 and sex[i] == 1) or (serum_creatinine[i] >= 1.04 and sex[i] == 0):\n",
    "            output.append(2)\n",
    "    return output"
   ]
  },
  {
   "cell_type": "code",
   "execution_count": 34,
   "id": "9e2047c4-99d8-4f06-b5cb-57a66ad51511",
   "metadata": {
    "tags": []
   },
   "outputs": [],
   "source": [
    "def serum_sodium_Derived(serum_sodium):\n",
    "    if serum_sodium < 135:\n",
    "        return 0\n",
    "    elif serum_sodium >= 135 and serum_sodium <= 145:\n",
    "        return 1\n",
    "    elif serum_sodium >= 145:\n",
    "        return 2"
   ]
  },
  {
   "cell_type": "code",
   "execution_count": 35,
   "id": "9297dfc3-3c2d-4163-ab42-81434fd42db1",
   "metadata": {
    "tags": []
   },
   "outputs": [
    {
     "data": {
      "text/html": [
       "<div>\n",
       "<style scoped>\n",
       "    .dataframe tbody tr th:only-of-type {\n",
       "        vertical-align: middle;\n",
       "    }\n",
       "\n",
       "    .dataframe tbody tr th {\n",
       "        vertical-align: top;\n",
       "    }\n",
       "\n",
       "    .dataframe thead th {\n",
       "        text-align: right;\n",
       "    }\n",
       "</style>\n",
       "<table border=\"1\" class=\"dataframe\">\n",
       "  <thead>\n",
       "    <tr style=\"text-align: right;\">\n",
       "      <th></th>\n",
       "      <th>age</th>\n",
       "      <th>anaemia</th>\n",
       "      <th>creatinine_phosphokinase</th>\n",
       "      <th>diabetes</th>\n",
       "      <th>ejection_fraction</th>\n",
       "      <th>high_blood_pressure</th>\n",
       "      <th>platelets</th>\n",
       "      <th>serum_creatinine</th>\n",
       "      <th>serum_sodium</th>\n",
       "      <th>sex</th>\n",
       "      <th>smoking</th>\n",
       "      <th>time</th>\n",
       "      <th>DEATH_EVENT</th>\n",
       "    </tr>\n",
       "  </thead>\n",
       "  <tbody>\n",
       "    <tr>\n",
       "      <th>0</th>\n",
       "      <td>75.0</td>\n",
       "      <td>0</td>\n",
       "      <td>582</td>\n",
       "      <td>0</td>\n",
       "      <td>20</td>\n",
       "      <td>1</td>\n",
       "      <td>265000.00</td>\n",
       "      <td>1.9</td>\n",
       "      <td>130</td>\n",
       "      <td>1</td>\n",
       "      <td>0</td>\n",
       "      <td>4</td>\n",
       "      <td>1</td>\n",
       "    </tr>\n",
       "    <tr>\n",
       "      <th>1</th>\n",
       "      <td>55.0</td>\n",
       "      <td>0</td>\n",
       "      <td>7861</td>\n",
       "      <td>0</td>\n",
       "      <td>38</td>\n",
       "      <td>0</td>\n",
       "      <td>263358.03</td>\n",
       "      <td>1.1</td>\n",
       "      <td>136</td>\n",
       "      <td>1</td>\n",
       "      <td>0</td>\n",
       "      <td>6</td>\n",
       "      <td>1</td>\n",
       "    </tr>\n",
       "    <tr>\n",
       "      <th>2</th>\n",
       "      <td>65.0</td>\n",
       "      <td>0</td>\n",
       "      <td>146</td>\n",
       "      <td>0</td>\n",
       "      <td>20</td>\n",
       "      <td>0</td>\n",
       "      <td>162000.00</td>\n",
       "      <td>1.3</td>\n",
       "      <td>129</td>\n",
       "      <td>1</td>\n",
       "      <td>1</td>\n",
       "      <td>7</td>\n",
       "      <td>1</td>\n",
       "    </tr>\n",
       "    <tr>\n",
       "      <th>3</th>\n",
       "      <td>50.0</td>\n",
       "      <td>1</td>\n",
       "      <td>111</td>\n",
       "      <td>0</td>\n",
       "      <td>20</td>\n",
       "      <td>0</td>\n",
       "      <td>210000.00</td>\n",
       "      <td>1.9</td>\n",
       "      <td>137</td>\n",
       "      <td>1</td>\n",
       "      <td>0</td>\n",
       "      <td>7</td>\n",
       "      <td>1</td>\n",
       "    </tr>\n",
       "    <tr>\n",
       "      <th>4</th>\n",
       "      <td>65.0</td>\n",
       "      <td>1</td>\n",
       "      <td>160</td>\n",
       "      <td>1</td>\n",
       "      <td>20</td>\n",
       "      <td>0</td>\n",
       "      <td>327000.00</td>\n",
       "      <td>2.7</td>\n",
       "      <td>116</td>\n",
       "      <td>0</td>\n",
       "      <td>0</td>\n",
       "      <td>8</td>\n",
       "      <td>1</td>\n",
       "    </tr>\n",
       "  </tbody>\n",
       "</table>\n",
       "</div>"
      ],
      "text/plain": [
       "    age  anaemia  creatinine_phosphokinase  diabetes  ejection_fraction   \n",
       "0  75.0        0                       582         0                 20  \\\n",
       "1  55.0        0                      7861         0                 38   \n",
       "2  65.0        0                       146         0                 20   \n",
       "3  50.0        1                       111         0                 20   \n",
       "4  65.0        1                       160         1                 20   \n",
       "\n",
       "   high_blood_pressure  platelets  serum_creatinine  serum_sodium  sex   \n",
       "0                    1  265000.00               1.9           130    1  \\\n",
       "1                    0  263358.03               1.1           136    1   \n",
       "2                    0  162000.00               1.3           129    1   \n",
       "3                    0  210000.00               1.9           137    1   \n",
       "4                    0  327000.00               2.7           116    0   \n",
       "\n",
       "   smoking  time  DEATH_EVENT  \n",
       "0        0     4            1  \n",
       "1        0     6            1  \n",
       "2        1     7            1  \n",
       "3        0     7            1  \n",
       "4        0     8            1  "
      ]
     },
     "execution_count": 35,
     "metadata": {},
     "output_type": "execute_result"
    }
   ],
   "source": [
    "df = pd.read_csv(\"../final_dataset.csv\")\n",
    "df.head()"
   ]
  },
  {
   "cell_type": "code",
   "execution_count": 36,
   "id": "8900c383-3140-4bd0-8c4a-aa3584195f89",
   "metadata": {
    "tags": []
   },
   "outputs": [],
   "source": [
    "df['Age_Derived'] = df['age'].apply(Age_Derived)\n",
    "df['Creatinine_Phosphokinase_Derived'] = df['creatinine_phosphokinase'].apply(\n",
    "    Creatinine_Phosphokinase_Derived)\n",
    "df['Ejection_fraction_Derived'] = df['ejection_fraction'].apply(\n",
    "    Ejection_fraction_Derived)\n",
    "df['platelets_Derived'] = df['platelets'].apply(platelets_Derived)\n",
    "df['serum_creatinine_Derived'] = serum_creatinine_Derived(\n",
    "    list(df['serum_creatinine']), list(df['sex']))\n",
    "df['serum_sodium_Derived'] = df['serum_sodium'].apply(serum_sodium_Derived)"
   ]
  },
  {
   "cell_type": "code",
   "execution_count": 37,
   "id": "00a4168f-c64e-42d5-868b-dd1f6e733583",
   "metadata": {
    "tags": []
   },
   "outputs": [],
   "source": [
    "# Input\n",
    "x = df.drop(['age', 'creatinine_phosphokinase', 'ejection_fraction', 'platelets',\n",
    "            'serum_creatinine', 'serum_sodium', 'DEATH_EVENT'], axis='columns')\n",
    "# Target\n",
    "y = df['DEATH_EVENT']"
   ]
  },
  {
   "cell_type": "code",
   "execution_count": 38,
   "id": "a5c5769f-877a-40b6-8f6b-c5702eeaaf75",
   "metadata": {
    "tags": []
   },
   "outputs": [],
   "source": [
    "# Splitting The Dataset\n",
    "xtrain, xtest, ytrain, ytest = train_test_split(\n",
    "    x, y, test_size=0.30, random_state=0)"
   ]
  },
  {
   "cell_type": "code",
   "execution_count": 39,
   "id": "8ff8135c-9fe8-4852-8662-df0e8962187a",
   "metadata": {
    "tags": []
   },
   "outputs": [],
   "source": [
    "# Scaling model in the range of -1 to 1\n",
    "sc_x = StandardScaler()\n",
    "xtrain = sc_x.fit_transform(xtrain)\n",
    "xtest = sc_x.transform(xtest)"
   ]
  },
  {
   "cell_type": "code",
   "execution_count": 40,
   "id": "39769e08-04b1-440f-a941-cf8306eec26e",
   "metadata": {
    "tags": []
   },
   "outputs": [
    {
     "name": "stdout",
     "output_type": "stream",
     "text": [
      "Score of the Logistic Regression Model For Training Data is:  0.8373205741626795\n",
      "Score of the Logistic Regression Model is For Testing Data:  0.8333333333333334\n",
      "Accuracy of the Logistic Regression Model Model is:  0.8333333333333334\n"
     ]
    },
    {
     "data": {
      "image/png": "[encoded data removed]",
      "text/plain": [
       "<Figure size 640x480 with 2 Axes>"
      ]
     },
     "metadata": {},
     "output_type": "display_data"
    },
    {
     "name": "stdout",
     "output_type": "stream",
     "text": [
      "Logistic Regression Report:\n",
      "               precision    recall  f1-score   support\n",
      "\n",
      "           0       0.82      0.97      0.89        62\n",
      "           1       0.88      0.54      0.67        28\n",
      "\n",
      "    accuracy                           0.83        90\n",
      "   macro avg       0.85      0.75      0.78        90\n",
      "weighted avg       0.84      0.83      0.82        90\n",
      "\n"
     ]
    }
   ],
   "source": [
    "# Logistic Regression Training Model\n",
    "model = LogisticRegression(random_state=0)\n",
    "model.fit(xtrain, ytrain)\n",
    "\n",
    "# After training the model, it is time to use it to do predictions on testing data.\n",
    "y_pred = model.predict(xtest)\n",
    "\n",
    "training_score = model.score(xtrain,ytrain)\n",
    "print(\"Score of the Logistic Regression Model For Training Data is: \",training_score)\n",
    "\n",
    "testing_score = model.score(xtest,ytest)\n",
    "print(\"Score of the Logistic Regression Model is For Testing Data: \",testing_score)\n",
    "\n",
    "accuracy = accuracy_score(y_pred,ytest)\n",
    "print(\"Accuracy of the Logistic Regression Model Model is: \",accuracy)\n",
    "\n",
    "# Confusion Metrics for logistic regression\n",
    "labels = [0,1]\n",
    "cm = confusion_matrix(ytest, y_pred, labels=labels)\n",
    "disp = ConfusionMatrixDisplay(confusion_matrix=cm, display_labels=labels)\n",
    "disp.plot()\n",
    "plt.show()\n",
    "\n",
    "print(\"Logistic Regression Report:\\n\",classification_report(ytest, y_pred, labels=labels))"
   ]
  },
  {
   "cell_type": "code",
   "execution_count": 41,
   "id": "53c02092",
   "metadata": {},
   "outputs": [
    {
     "name": "stdout",
     "output_type": "stream",
     "text": [
      "Score of the SVM For Training Data is:  0.8373205741626795\n",
      "Score of the SVM is For Testing Data:  0.8444444444444444\n",
      "Accuracy of the SVM Model is:  0.8444444444444444\n"
     ]
    },
    {
     "data": {
      "image/png": "[encoded data removed]",
      "text/plain": [
       "<Figure size 640x480 with 2 Axes>"
      ]
     },
     "metadata": {},
     "output_type": "display_data"
    },
    {
     "name": "stdout",
     "output_type": "stream",
     "text": [
      "SVM Report:\n",
      "               precision    recall  f1-score   support\n",
      "\n",
      "           0       0.83      0.97      0.90        62\n",
      "           1       0.89      0.57      0.70        28\n",
      "\n",
      "    accuracy                           0.84        90\n",
      "   macro avg       0.86      0.77      0.80        90\n",
      "weighted avg       0.85      0.84      0.83        90\n",
      "\n"
     ]
    }
   ],
   "source": [
    "# SVM Training Model\n",
    "model1 = SVC(C=1.0,random_state=1,kernel='linear')\n",
    "model1.fit(xtrain,ytrain)\n",
    "\n",
    "# After training the model, it is time to use it to do predictions on testing data.\n",
    "y_pred1 = model1.predict(xtest)\n",
    "\n",
    "training_score1 = model1.score(xtrain,ytrain)\n",
    "print(\"Score of the SVM For Training Data is: \",training_score1)\n",
    "\n",
    "testing_score1 = model1.score(xtest,ytest)\n",
    "print(\"Score of the SVM is For Testing Data: \",testing_score1)\n",
    "\n",
    "accuracy1 = accuracy_score(y_pred1,ytest)\n",
    "print(\"Accuracy of the SVM Model is: \",accuracy1)\n",
    "\n",
    "# Confusion Metrics for SVM\n",
    "labels = [0,1]\n",
    "cm = confusion_matrix(ytest, y_pred1, labels=labels)\n",
    "disp = ConfusionMatrixDisplay(confusion_matrix=cm, display_labels=labels)\n",
    "disp.plot()\n",
    "plt.show()\n",
    "\n",
    "print(\"SVM Report:\\n\",classification_report(ytest, y_pred1, labels=labels))"
   ]
  },
  {
   "cell_type": "code",
   "execution_count": 42,
   "id": "f218b68d",
   "metadata": {},
   "outputs": [
    {
     "name": "stdout",
     "output_type": "stream",
     "text": [
      "Score of the KNN For Training Data is:  0.8086124401913876\n",
      "Score of the KNN is For Testing Data:  0.7888888888888889\n",
      "Accuracy of the KNN Model is:  0.7888888888888889\n"
     ]
    },
    {
     "data": {
      "image/png": "[encoded data removed]",
      "text/plain": [
       "<Figure size 640x480 with 2 Axes>"
      ]
     },
     "metadata": {},
     "output_type": "display_data"
    },
    {
     "name": "stdout",
     "output_type": "stream",
     "text": [
      "KNN Report:\n",
      "               precision    recall  f1-score   support\n",
      "\n",
      "           0       0.79      0.95      0.86        62\n",
      "           1       0.80      0.43      0.56        28\n",
      "\n",
      "    accuracy                           0.79        90\n",
      "   macro avg       0.79      0.69      0.71        90\n",
      "weighted avg       0.79      0.79      0.77        90\n",
      "\n"
     ]
    }
   ],
   "source": [
    "# KNN Training Model\n",
    "model2 = KNeighborsClassifier(n_neighbors=7)\n",
    "model2.fit(xtrain,ytrain)\n",
    "\n",
    "# After training the model, it is time to use it to do predictions on testing data.\n",
    "y_pred2 = model2.predict(xtest)\n",
    "\n",
    "training_score2 = model2.score(xtrain,ytrain)\n",
    "print(\"Score of the KNN For Training Data is: \",training_score2)\n",
    "\n",
    "testing_score2 = model2.score(xtest,ytest)\n",
    "print(\"Score of the KNN is For Testing Data: \",testing_score2)\n",
    "\n",
    "accuracy2 = accuracy_score(y_pred2,ytest)\n",
    "print(\"Accuracy of the KNN Model is: \",accuracy2)\n",
    "\n",
    "# Confusion Metrics for SVM\n",
    "labels = [0,1]\n",
    "cm = confusion_matrix(ytest, y_pred2, labels=labels)\n",
    "disp = ConfusionMatrixDisplay(confusion_matrix=cm, display_labels=labels)\n",
    "disp.plot()\n",
    "plt.show()\n",
    "\n",
    "print(\"KNN Report:\\n\",classification_report(ytest, y_pred2, labels=labels))"
   ]
  }
 ],
 "metadata": {
  "kernelspec": {
   "display_name": "Python 3 (ipykernel)",
   "language": "python",
   "name": "python3"
  },
  "language_info": {
   "codemirror_mode": {
    "name": "ipython",
    "version": 3
   },
   "file_extension": ".py",
   "mimetype": "text/x-python",
   "name": "python",
   "nbconvert_exporter": "python",
   "pygments_lexer": "ipython3",
   "version": "3.10.6"
  }
 },
 "nbformat": 4,
 "nbformat_minor": 5
}
